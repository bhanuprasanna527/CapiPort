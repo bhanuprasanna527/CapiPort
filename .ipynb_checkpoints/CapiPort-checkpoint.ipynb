{
 "cells": [
  {
   "cell_type": "markdown",
   "id": "ef21dac5",
   "metadata": {},
   "source": [
    "# CapiPort - PORTFOLIO OPTIMISATION"
   ]
  },
  {
   "cell_type": "markdown",
   "id": "40001fdc",
   "metadata": {},
   "source": [
    "    Two things to consider for Portfolio Optimisation:\n",
    "    \n",
    "        1) Minimising Risk\n",
    "        2) Maximising Return"
   ]
  },
  {
   "cell_type": "markdown",
   "id": "92c4e47e",
   "metadata": {},
   "source": [
    "    Basic process of Portfolio Optimisation:\n",
    "        \n",
    "        1) Select the Asset class to work on.\n",
    "            1.1) Asset Class choosen - Equity (Stocks)\n",
    "        2) Select the Companies which you want to use to build a Portfolio.\n",
    "            2.1) Companies choosen - \n",
    "        3) To try various Statistical Methods relating to Portfolio Optimisation.\n",
    "            3.1) Method 1 - Result\n",
    "            3.2) Method 2 - Result\n",
    "        4) You will obtain Weigths or Percentages of Portfolio to invest.\n",
    "            4.1) Method 1 - Weights\n",
    "            4.2) Method 2 - Weights\n",
    "        5) Testing the Portfolio for the future.\n",
    "            5.1) Method 1 - Result\n",
    "            5.2) Method 2 - Result\n",
    "        6) Final Result"
   ]
  },
  {
   "cell_type": "markdown",
   "id": "b9d59c90",
   "metadata": {},
   "source": [
    "## <u>STEPS FOR IMPLEMENTING<u>\n",
    "\n",
    "    1) IMPORTING THE LIBRARIES\n",
    "    2) TWEETS EXTRACTION FROM STOCKNET\n",
    "    3) TWITTER DATA PRE-PROCESSING\n",
    "    4) ZERO-SHOT SENTIMENT CLASSIFICATION\n",
    "    5) FEATURE ENGINEERING OF TWEETS SENTIMENT VALUES\n",
    "        5.1) Number of Tweets for each individual days\n",
    "        5.2) Average of Emotion for each individual days\n",
    "        5.3) Median of Sentiment for each Single Day\n",
    "        5.4) Maximum Sentiment Value for each Single day\n",
    "        5.5) Minimum Sentiment Value for Each Single Day\n",
    "        5.6) Combining all the dataframes\n",
    "    6) STOCK DATA FROM STOCKNET\n",
    "    7) STOCK DATA AND FEATURE ENGINEERED SENTIMENT VALUES MERGING STEP\n",
    "    9) WITH SENTIMENT\n",
    "        9.1) DATASET PREPARATION FOR TRAINING\n",
    "        9.2) TRAINING\n",
    "        9.3) EVALUATING\n",
    "        9.4) GRAPHS AND METRICS"
   ]
  },
  {
   "cell_type": "code",
   "execution_count": null,
   "id": "2af6aaca",
   "metadata": {},
   "outputs": [],
   "source": []
  }
 ],
 "metadata": {
  "kernelspec": {
   "display_name": "Python 3 (ipykernel)",
   "language": "python",
   "name": "python3"
  },
  "language_info": {
   "codemirror_mode": {
    "name": "ipython",
    "version": 3
   },
   "file_extension": ".py",
   "mimetype": "text/x-python",
   "name": "python",
   "nbconvert_exporter": "python",
   "pygments_lexer": "ipython3",
   "version": "3.10.13"
  }
 },
 "nbformat": 4,
 "nbformat_minor": 5
}
