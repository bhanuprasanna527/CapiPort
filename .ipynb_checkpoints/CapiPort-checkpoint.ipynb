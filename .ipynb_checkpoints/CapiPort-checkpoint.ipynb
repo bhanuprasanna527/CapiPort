{
 "cells": [
  {
   "cell_type": "markdown",
   "id": "5f6ccd5b",
   "metadata": {},
   "source": [
    "# CapiPort - PORTFOLIO OPTIMISATION"
   ]
  },
  {
   "cell_type": "markdown",
   "id": "b1962897",
   "metadata": {},
   "source": [
    "    Two things to consider for Portfolio Optimisation:\n",
    "    \n",
    "        1) Minimising Risk\n",
    "        2) Maximising Return"
   ]
  },
  {
   "cell_type": "markdown",
   "id": "9d025126",
   "metadata": {},
   "source": [
    "    Basic process of Portfolio Optimisation:\n",
    "        \n",
    "        1) Select the Asset class to work on.\n",
    "            1.1) Asset Class choosen - Equity (Stocks)\n",
    "        2) Select the Companies which you want to use to build a Portfolio.\n",
    "            2.1) Companies choosen - \n",
    "                2.1.1) Tata Power - TATAPOWER.NS\n",
    "                2.1.2) Tata Motors - TATAMOTORS.NS\n",
    "                2.1.3) Tata Steel - TATASTEEL.NS\n",
    "                2.1.4) Zomato - ZOMATO.NS\n",
    "                2.1.5) NHPC - NHPC.NS\n",
    "                2.1.6) NCC - NCC.NS\n",
    "                2.1.7) IREDA - IREDA.NS\n",
    "                2.1.8) IRCON - IRCON.NS\n",
    "        3) To try various Statistical Methods relating to Portfolio Optimisation.\n",
    "            3.1) Method 1 - Result\n",
    "            3.2) Method 2 - Result\n",
    "        4) You will obtain Weigths or Percentages of Portfolio to invest.\n",
    "            4.1) Method 1 - Weights\n",
    "            4.2) Method 2 - Weights\n",
    "        5) Testing the Portfolio for the future.\n",
    "            5.1) Method 1 - Result\n",
    "            5.2) Method 2 - Result\n",
    "        6) Final Result"
   ]
  },
  {
   "cell_type": "markdown",
   "id": "a80152f2",
   "metadata": {},
   "source": [
    "# <u>Steps of Implementation</u>\n",
    "\n",
    "    1) Importing Libraries\n",
    "    2) Select the Financial Instruments\n",
    "    3) Get the Adjacent Close prices of Last 5 Years\n",
    "    4) Calculating the Log-Return of Company Dataset\n",
    "    5) Calculating the Sharpe Ratio\n",
    "    6) Getting Started with Monte Carlo\n",
    "    7) Let's look closer at the Simulations"
   ]
  },
  {
   "cell_type": "markdown",
   "id": "42c5d329",
   "metadata": {},
   "source": [
    "## Importing Libraries"
   ]
  },
  {
   "cell_type": "code",
   "execution_count": 1,
   "id": "945bbd48",
   "metadata": {
    "ExecuteTime": {
     "end_time": "2024-03-07T20:09:35.347796Z",
     "start_time": "2024-03-07T20:09:30.939936Z"
    }
   },
   "outputs": [],
   "source": [
    "import pathlib\n",
    "import numpy as np\n",
    "import pandas as pd\n",
    "import matplotlib.pyplot as plt\n",
    "import scipy.optimize as sci_opt\n",
    "\n",
    "from pprint import pprint\n",
    "from sklearn.preprocessing import StandardScaler\n",
    "\n",
    "import yfinance as yf\n",
    "\n",
    "# Set some display options for Pandas.\n",
    "pd.set_option('expand_frame_repr', False)"
   ]
  },
  {
   "cell_type": "markdown",
   "id": "8dbc2573",
   "metadata": {},
   "source": [
    "## Select the Financial Instruments"
   ]
  },
  {
   "cell_type": "code",
   "execution_count": 2,
   "id": "08345846",
   "metadata": {
    "ExecuteTime": {
     "end_time": "2024-03-07T20:09:37.966003Z",
     "start_time": "2024-03-07T20:09:37.963670Z"
    }
   },
   "outputs": [],
   "source": [
    "## Have Choosen Stocks\n",
    "\n",
    "## The Companies selected to build a Optimal Portfolio\n",
    "com_sel = [\"TATAPOWER.NS\", \"TATAMOTORS.NS\", \"TATASTEEL.NS\", \"RELIANCE.NS\", \"ADANIENT.NS\", \"ADANIPORTS.NS\"]\n",
    "\n",
    "## We will need Number of Tickers for future\n",
    "num_tick = len(com_sel)"
   ]
  },
  {
   "cell_type": "markdown",
   "id": "2376a747",
   "metadata": {},
   "source": [
    "## Get the Adjacent Close prices of Last 5 Years"
   ]
  },
  {
   "cell_type": "code",
   "execution_count": 3,
   "id": "cb64a4c0",
   "metadata": {
    "ExecuteTime": {
     "end_time": "2024-03-07T20:09:39.680530Z",
     "start_time": "2024-03-07T20:09:38.995900Z"
    }
   },
   "outputs": [
    {
     "name": "stderr",
     "output_type": "stream",
     "text": [
      "[*********************100%%**********************]  6 of 6 completed\n"
     ]
    },
    {
     "data": {
      "text/html": [
       "<div>\n",
       "<style scoped>\n",
       "    .dataframe tbody tr th:only-of-type {\n",
       "        vertical-align: middle;\n",
       "    }\n",
       "\n",
       "    .dataframe tbody tr th {\n",
       "        vertical-align: top;\n",
       "    }\n",
       "\n",
       "    .dataframe thead th {\n",
       "        text-align: right;\n",
       "    }\n",
       "</style>\n",
       "<table border=\"1\" class=\"dataframe\">\n",
       "  <thead>\n",
       "    <tr style=\"text-align: right;\">\n",
       "      <th>Ticker</th>\n",
       "      <th>ADANIENT.NS</th>\n",
       "      <th>ADANIPORTS.NS</th>\n",
       "      <th>RELIANCE.NS</th>\n",
       "      <th>TATAMOTORS.NS</th>\n",
       "      <th>TATAPOWER.NS</th>\n",
       "      <th>TATASTEEL.NS</th>\n",
       "    </tr>\n",
       "    <tr>\n",
       "      <th>Date</th>\n",
       "      <th></th>\n",
       "      <th></th>\n",
       "      <th></th>\n",
       "      <th></th>\n",
       "      <th></th>\n",
       "      <th></th>\n",
       "    </tr>\n",
       "  </thead>\n",
       "  <tbody>\n",
       "    <tr>\n",
       "      <th>2019-03-01</th>\n",
       "      <td>132.264633</td>\n",
       "      <td>322.673431</td>\n",
       "      <td>1098.479858</td>\n",
       "      <td>179.739807</td>\n",
       "      <td>61.861305</td>\n",
       "      <td>43.332832</td>\n",
       "    </tr>\n",
       "    <tr>\n",
       "      <th>2019-03-05</th>\n",
       "      <td>140.120468</td>\n",
       "      <td>328.532288</td>\n",
       "      <td>1108.873047</td>\n",
       "      <td>193.447083</td>\n",
       "      <td>63.798790</td>\n",
       "      <td>44.540791</td>\n",
       "    </tr>\n",
       "    <tr>\n",
       "      <th>2019-03-06</th>\n",
       "      <td>137.600662</td>\n",
       "      <td>326.401764</td>\n",
       "      <td>1133.197876</td>\n",
       "      <td>188.213394</td>\n",
       "      <td>65.782410</td>\n",
       "      <td>44.463959</td>\n",
       "    </tr>\n",
       "    <tr>\n",
       "      <th>2019-03-07</th>\n",
       "      <td>135.278503</td>\n",
       "      <td>330.130127</td>\n",
       "      <td>1138.080811</td>\n",
       "      <td>188.711853</td>\n",
       "      <td>65.090462</td>\n",
       "      <td>44.489571</td>\n",
       "    </tr>\n",
       "    <tr>\n",
       "      <th>2019-03-08</th>\n",
       "      <td>136.563110</td>\n",
       "      <td>331.340698</td>\n",
       "      <td>1135.258667</td>\n",
       "      <td>180.637009</td>\n",
       "      <td>64.583015</td>\n",
       "      <td>43.354172</td>\n",
       "    </tr>\n",
       "  </tbody>\n",
       "</table>\n",
       "</div>"
      ],
      "text/plain": [
       "Ticker      ADANIENT.NS  ADANIPORTS.NS  RELIANCE.NS  TATAMOTORS.NS  TATAPOWER.NS  TATASTEEL.NS\n",
       "Date                                                                                          \n",
       "2019-03-01   132.264633     322.673431  1098.479858     179.739807     61.861305     43.332832\n",
       "2019-03-05   140.120468     328.532288  1108.873047     193.447083     63.798790     44.540791\n",
       "2019-03-06   137.600662     326.401764  1133.197876     188.213394     65.782410     44.463959\n",
       "2019-03-07   135.278503     330.130127  1138.080811     188.711853     65.090462     44.489571\n",
       "2019-03-08   136.563110     331.340698  1135.258667     180.637009     64.583015     43.354172"
      ]
     },
     "execution_count": 3,
     "metadata": {},
     "output_type": "execute_result"
    }
   ],
   "source": [
    "com_data = yf.download(com_sel, start=\"2019-03-01\", end=\"2024-03-01\")['Adj Close']\n",
    "\n",
    "com_data.head()"
   ]
  },
  {
   "cell_type": "markdown",
   "id": "fbc4ccf9",
   "metadata": {},
   "source": [
    "## Calculating the Log-Return of Company Dataset"
   ]
  },
  {
   "cell_type": "code",
   "execution_count": 4,
   "id": "49aadb44",
   "metadata": {
    "ExecuteTime": {
     "end_time": "2024-03-07T20:09:40.540798Z",
     "start_time": "2024-03-07T20:09:40.536374Z"
    }
   },
   "outputs": [],
   "source": [
    "## Log-Return of Company Dataset\n",
    "log_return = np.log(1 + com_data.pct_change())"
   ]
  },
  {
   "cell_type": "markdown",
   "id": "8a3b8f50",
   "metadata": {},
   "source": [
    "## Calculating the Sharpe Ratio"
   ]
  },
  {
   "cell_type": "code",
   "execution_count": 5,
   "id": "f91abb2c",
   "metadata": {
    "ExecuteTime": {
     "end_time": "2024-03-07T20:09:41.663993Z",
     "start_time": "2024-03-07T20:09:41.653810Z"
    }
   },
   "outputs": [
    {
     "name": "stdout",
     "output_type": "stream",
     "text": [
      "\n",
      "==========================================================================================\n",
      "PORTFOLIO WEIGHTS:\n",
      "------------------------------------------------------------------------------------------\n",
      "   random_weights  rebalance_weights\n",
      "0        0.106868           0.036601\n",
      "1        0.491893           0.168466\n",
      "2        0.523100           0.179154\n",
      "3        0.552735           0.189304\n",
      "4        0.786875           0.269493\n",
      "5        0.458361           0.156982\n",
      "------------------------------------------------------------------------------------------\n",
      "\n",
      "==========================================================================================\n",
      "PORTFOLIO METRICS:\n",
      "------------------------------------------------------------------------------------------\n",
      "   Expected Portfolio Returns  Expected Portfolio Volatility  Portfolio Sharpe Ratio\n",
      "0                       0.303                       0.286268                1.058451\n",
      "------------------------------------------------------------------------------------------\n"
     ]
    }
   ],
   "source": [
    "## Generate Random Weights\n",
    "rand_weig = np.array(np.random.random(num_tick))\n",
    "\n",
    "## Rebalancing Random Weights\n",
    "rebal_weig = rand_weig / np.sum(rand_weig)\n",
    "\n",
    "## Calculate the Expected Returns, Annualize it by * 247.0\n",
    "exp_ret = np.sum((log_return.mean() * rebal_weig) * 247)\n",
    "\n",
    "## Calculate the Expected Volatility, Annualize it by * 247.0\n",
    "exp_vol = np.sqrt(\n",
    "np.dot(\n",
    "    rebal_weig.T,\n",
    "    np.dot(\n",
    "        log_return.cov() * 247,\n",
    "        rebal_weig\n",
    "    )\n",
    ")\n",
    ")\n",
    "\n",
    "## Calculate the Sharpe Ratio.\n",
    "sharpe_ratio = exp_ret / exp_vol\n",
    "\n",
    "# Put the weights into a data frame to see them better.\n",
    "weights_df = pd.DataFrame(data={\n",
    "'random_weights': rand_weig,\n",
    "'rebalance_weights': rebal_weig\n",
    "})\n",
    "print('')\n",
    "print('='*90)\n",
    "print('PORTFOLIO WEIGHTS:')\n",
    "print('-'*90)\n",
    "print(weights_df)\n",
    "print('-'*90)\n",
    "\n",
    "# Do the same with the other metrics.\n",
    "metrics_df = pd.DataFrame(data={\n",
    "    'Expected Portfolio Returns': exp_ret,\n",
    "    'Expected Portfolio Volatility': exp_vol,\n",
    "    'Portfolio Sharpe Ratio': sharpe_ratio\n",
    "}, index=[0])\n",
    "\n",
    "print('')\n",
    "print('='*90)\n",
    "print('PORTFOLIO METRICS:')\n",
    "print('-'*90)\n",
    "print(metrics_df)\n",
    "print('-'*90)"
   ]
  },
  {
   "cell_type": "markdown",
   "id": "22925bff",
   "metadata": {},
   "source": [
    "## Getting Started with Monte Carlo"
   ]
  },
  {
   "cell_type": "code",
   "execution_count": 6,
   "id": "7abe8654",
   "metadata": {
    "ExecuteTime": {
     "end_time": "2024-03-07T20:09:42.830884Z",
     "start_time": "2024-03-07T20:09:42.827059Z"
    }
   },
   "outputs": [],
   "source": [
    "## Let's get started with Monte Carlo Simulations\n",
    "\n",
    "## How many times should we run Monte Carlo\n",
    "num_of_port = 20000\n",
    "\n",
    "## Create an Array to store the weights as they are generated\n",
    "all_weights = np.zeros((num_of_port, num_tick))\n",
    "\n",
    "## Create an Array to store the returns as they are generated\n",
    "ret_arr = np.zeros(num_of_port)\n",
    "\n",
    "## Create an Array to store the volatilities as they are generated\n",
    "vol_arr = np.zeros(num_of_port)\n",
    "\n",
    "## Create an Array to store the Sharpe Ratios as they are generated\n",
    "sharpe_arr = np.zeros(num_of_port)"
   ]
  },
  {
   "cell_type": "markdown",
   "id": "d81282dd",
   "metadata": {},
   "source": [
    "## Monte Carlo Simulations"
   ]
  },
  {
   "cell_type": "code",
   "execution_count": 7,
   "id": "9150b622",
   "metadata": {
    "ExecuteTime": {
     "end_time": "2024-03-07T20:09:52.035492Z",
     "start_time": "2024-03-07T20:09:43.833813Z"
    }
   },
   "outputs": [],
   "source": [
    "## Let's start the Monte Carlo Simulation\n",
    "\n",
    "for ind in range(num_of_port):\n",
    "    \n",
    "    ## Let's first Calculate the Weights\n",
    "    weig = np.array(np.random.random(num_tick))\n",
    "    weig = weig / np.sum(weig)\n",
    "    \n",
    "    ## Append the Weights to Weigths array\n",
    "    all_weights[ind, :] = weig\n",
    "    \n",
    "    ## Calculate and Append the Expected Log Returns to Returns Array\n",
    "    ret_arr[ind] = np.sum((log_return.mean() * weig) * 247)\n",
    "    \n",
    "    ## Calculate and Append the Volatility to the Volatitlity Array\n",
    "    vol_arr[ind] = np.sqrt(\n",
    "        np.dot(weig.T, np.dot(log_return.cov() * 247, weig))\n",
    "    )\n",
    "    \n",
    "    ## Calculate and Append the Sharpe Ratio to Sharpe Ratio Array\n",
    "    sharpe_arr[ind] = ret_arr[ind] / vol_arr[ind]"
   ]
  },
  {
   "cell_type": "markdown",
   "id": "d496de6c",
   "metadata": {},
   "source": [
    "## Let's look closer at the Simulations"
   ]
  },
  {
   "cell_type": "code",
   "execution_count": 8,
   "id": "c6b2b637",
   "metadata": {
    "ExecuteTime": {
     "end_time": "2024-03-07T20:09:52.335274Z",
     "start_time": "2024-03-07T20:09:52.040485Z"
    }
   },
   "outputs": [
    {
     "name": "stdout",
     "output_type": "stream",
     "text": [
      "\n",
      "==========================================================================================\n",
      "SIMULATIONS RESULT:\n",
      "------------------------------------------------------------------------------------------\n",
      "    Returns  Volatility  Sharpe Ratio                                  Portfolio Weights\n",
      "0  0.348837    0.304359      1.146135  [0.1690690056838101, 0.229961952530237, 0.1738...\n",
      "1  0.311647    0.288966      1.078490  [0.15583695704909642, 0.3148456337062344, 0.37...\n",
      "2  0.380132    0.333072      1.141290  [0.24692548531911288, 0.27348838795746494, 0.0...\n",
      "3  0.359978    0.311953      1.153948  [0.2204412846189971, 0.031119722138497567, 0.1...\n",
      "4  0.342977    0.317469      1.080351  [0.1618750270568406, 0.11395237163220999, 0.10...\n",
      "------------------------------------------------------------------------------------------\n"
     ]
    }
   ],
   "source": [
    "## Let's create a Data Frame with Weights, Returns, Volatitlity, and the Sharpe Ratio\n",
    "sim_data = [ret_arr, vol_arr, sharpe_arr, all_weights]\n",
    "\n",
    "## Create a Data Frame using above, then Transpose it\n",
    "sim_df = pd.DataFrame(data = sim_data).T\n",
    "\n",
    "## Give the columns in Simulation Data Proper Names\n",
    "sim_df.columns = [\n",
    "    'Returns',\n",
    "    'Volatility',\n",
    "    'Sharpe Ratio',\n",
    "    'Portfolio Weights'\n",
    "]\n",
    "\n",
    "## Make sure the Data Types are correct in the Data Frame\n",
    "sim_df = sim_df.infer_objects()\n",
    "\n",
    "# Print out the results.\n",
    "print('')\n",
    "print('='*90)\n",
    "print('SIMULATIONS RESULT:')\n",
    "print('-'*90)\n",
    "print(sim_df.head())\n",
    "print('-'*90)"
   ]
  },
  {
   "cell_type": "markdown",
   "id": "836a92d8",
   "metadata": {},
   "source": [
    "## Look at Important Metrics"
   ]
  },
  {
   "cell_type": "code",
   "execution_count": 9,
   "id": "190b2de9",
   "metadata": {
    "ExecuteTime": {
     "end_time": "2024-03-07T20:09:52.346009Z",
     "start_time": "2024-03-07T20:09:52.337508Z"
    },
    "scrolled": true
   },
   "outputs": [
    {
     "name": "stdout",
     "output_type": "stream",
     "text": [
      "\n",
      "================================================================================\n",
      "MAX SHARPE RATIO:\n",
      "--------------------------------------------------------------------------------\n",
      "Returns                                                       0.477027\n",
      "Volatility                                                    0.363963\n",
      "Sharpe Ratio                                                  1.310648\n",
      "Portfolio Weights    [0.4840066921566578, 0.04011284279744121, 0.05...\n",
      "Name: 3737, dtype: object\n",
      "--------------------------------------------------------------------------------\n",
      "\n",
      "================================================================================\n",
      "MIN VOLATILITY:\n",
      "--------------------------------------------------------------------------------\n",
      "Returns                                                       0.264526\n",
      "Volatility                                                    0.260549\n",
      "Sharpe Ratio                                                  1.015263\n",
      "Portfolio Weights    [0.041974048159546716, 0.1147461556730666, 0.4...\n",
      "Name: 12541, dtype: object\n",
      "--------------------------------------------------------------------------------\n"
     ]
    }
   ],
   "source": [
    "# Return the Max Sharpe Ratio from the run.\n",
    "max_sharpe_ratio = sim_df.loc[sim_df['Sharpe Ratio'].idxmax()]\n",
    "\n",
    "# Return the Min Volatility from the run.\n",
    "min_volatility = sim_df.loc[sim_df['Volatility'].idxmin()]\n",
    "\n",
    "print('')\n",
    "print('='*80)\n",
    "print('MAX SHARPE RATIO:')\n",
    "print('-'*80)\n",
    "print(max_sharpe_ratio)\n",
    "print('-'*80)\n",
    "\n",
    "print('')\n",
    "print('='*80)\n",
    "print('MIN VOLATILITY:')\n",
    "print('-'*80)\n",
    "print(min_volatility)\n",
    "print('-'*80)"
   ]
  },
  {
   "cell_type": "markdown",
   "id": "ad243990",
   "metadata": {},
   "source": [
    "## Let's Visualize the Monte Carlo Simulation"
   ]
  },
  {
   "cell_type": "code",
   "execution_count": 10,
   "id": "751eab2f",
   "metadata": {
    "ExecuteTime": {
     "end_time": "2024-03-07T20:09:52.835850Z",
     "start_time": "2024-03-07T20:09:52.351612Z"
    }
   },
   "outputs": [
    {
     "name": "stderr",
     "output_type": "stream",
     "text": [
      "/var/folders/jx/_r4pg95j3pzdd581p_wql9pc0000gn/T/ipykernel_3957/3549902619.py:20: FutureWarning: Series.__getitem__ treating keys as positions is deprecated. In a future version, integer keys will always be treated as labels (consistent with DataFrame behavior). To access a value by position, use `ser.iloc[pos]`\n",
      "  max_sharpe_ratio[1],\n",
      "/var/folders/jx/_r4pg95j3pzdd581p_wql9pc0000gn/T/ipykernel_3957/3549902619.py:21: FutureWarning: Series.__getitem__ treating keys as positions is deprecated. In a future version, integer keys will always be treated as labels (consistent with DataFrame behavior). To access a value by position, use `ser.iloc[pos]`\n",
      "  max_sharpe_ratio[0],\n",
      "/var/folders/jx/_r4pg95j3pzdd581p_wql9pc0000gn/T/ipykernel_3957/3549902619.py:29: FutureWarning: Series.__getitem__ treating keys as positions is deprecated. In a future version, integer keys will always be treated as labels (consistent with DataFrame behavior). To access a value by position, use `ser.iloc[pos]`\n",
      "  min_volatility[1],\n",
      "/var/folders/jx/_r4pg95j3pzdd581p_wql9pc0000gn/T/ipykernel_3957/3549902619.py:30: FutureWarning: Series.__getitem__ treating keys as positions is deprecated. In a future version, integer keys will always be treated as labels (consistent with DataFrame behavior). To access a value by position, use `ser.iloc[pos]`\n",
      "  min_volatility[0],\n"
     ]
    },
    {
     "data": {
      "image/png": "[encoded data removed]",
      "text/plain": [
       "<Figure size 640x480 with 2 Axes>"
      ]
     },
     "metadata": {},
     "output_type": "display_data"
    }
   ],
   "source": [
    "# This is so I can see the plot inside of my Jupyter Notebook.\n",
    "%matplotlib inline\n",
    "\n",
    "# Plot the data on a Scatter plot.\n",
    "plt.scatter(\n",
    "    y=sim_df['Returns'],\n",
    "    x=sim_df['Volatility'],\n",
    "    c=sim_df['Sharpe Ratio'],\n",
    "    cmap='RdYlBu'\n",
    ")\n",
    "\n",
    "# Give the Plot some labels, and titles.\n",
    "plt.title('Portfolio Returns Vs. Risk')\n",
    "plt.colorbar(label='Sharpe Ratio')\n",
    "plt.xlabel('Standard Deviation')\n",
    "plt.ylabel('Returns')\n",
    "\n",
    "# Plot the Max Sharpe Ratio, using a `Red Star`.\n",
    "plt.scatter(\n",
    "    max_sharpe_ratio[1],\n",
    "    max_sharpe_ratio[0],\n",
    "    marker=(5, 1, 0),\n",
    "    color='r',\n",
    "    s=600\n",
    ")\n",
    "\n",
    "# Plot the Min Volatility, using a `Blue Star`.\n",
    "plt.scatter(\n",
    "    min_volatility[1],\n",
    "    min_volatility[0],\n",
    "    marker=(5, 1, 0),\n",
    "    color='b',\n",
    "    s=600\n",
    ")\n",
    "\n",
    "# Finally, show the plot.\n",
    "plt.show()"
   ]
  },
  {
   "cell_type": "code",
   "execution_count": null,
   "id": "759a52dd",
   "metadata": {
    "ExecuteTime": {
     "end_time": "2024-03-07T20:09:52.848946Z",
     "start_time": "2024-03-07T20:09:52.840460Z"
    }
   },
   "outputs": [],
   "source": []
  },
  {
   "cell_type": "code",
   "execution_count": null,
   "id": "728a0752",
   "metadata": {
    "ExecuteTime": {
     "end_time": "2024-03-07T20:09:52.860738Z",
     "start_time": "2024-03-07T20:09:52.853368Z"
    }
   },
   "outputs": [],
   "source": []
  },
  {
   "cell_type": "code",
   "execution_count": null,
   "id": "bc534b3e",
   "metadata": {},
   "outputs": [],
   "source": []
  }
 ],
 "metadata": {
  "kernelspec": {
   "display_name": "Python 3 (ipykernel)",
   "language": "python",
   "name": "python3"
  },
  "language_info": {
   "codemirror_mode": {
    "name": "ipython",
    "version": 3
   },
   "file_extension": ".py",
   "mimetype": "text/x-python",
   "name": "python",
   "nbconvert_exporter": "python",
   "pygments_lexer": "ipython3",
   "version": "3.10.13"
  }
 },
 "nbformat": 4,
 "nbformat_minor": 5
}
