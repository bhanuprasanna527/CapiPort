{
 "cells": [
  {
   "cell_type": "code",
   "execution_count": 8,
   "id": "65d8694c",
   "metadata": {},
   "outputs": [
    {
     "name": "stderr",
     "output_type": "stream",
     "text": [
      "[*********************100%%**********************]  3 of 3 completed"
     ]
    },
    {
     "name": "stdout",
     "output_type": "stream",
     "text": [
      "\n",
      "Annual Returns for Individual Stocks:\n",
      "           AAPL       MSFT      GOOGL\n",
      "Year                                 \n",
      "2010  48.761961  48.761961  48.761961\n",
      "2011  29.709794  29.709794  29.709794\n",
      "2012  16.071254  16.071254  16.071254\n",
      "2013  35.989535  35.989535  35.989535\n",
      "2014  29.361797  29.361797  29.361797\n",
      "2015  44.545705  44.545705  44.545705\n",
      "2016  45.078115  45.078115  45.078115\n",
      "2017  41.569435  41.569435  41.569435\n",
      "2018  61.237996  61.237996  61.237996\n",
      "2019  60.127380  60.127380  60.127380\n",
      "2020  57.005915  57.005915  57.005915\n",
      "2021  55.097900  55.097900  55.097900\n",
      "2022  68.649280  68.649280  68.649280\n",
      "2023  70.673344  70.673344  70.673344\n",
      "2024  89.932801  89.932801  89.932801\n",
      "\n",
      "Balance and Return for Every Year:\n",
      "      Portfolio Balance (Rs)  Return Percentage (%)\n",
      "Date                                               \n",
      "2010               12.070123             -99.987930\n",
      "2011               14.021850             -99.985978\n",
      "2012               16.899318             -99.983101\n",
      "2013               22.304849             -99.977695\n",
      "2014               25.514597             -99.974485\n",
      "2015               30.715219             -99.969285\n",
      "2016               32.674860             -99.967325\n",
      "2017               45.719897             -99.954280\n",
      "2018               44.351312             -99.955649\n",
      "2019               69.407569             -99.930592\n",
      "2020              110.912524             -99.889087\n",
      "2021              161.517882             -99.838482\n",
      "2022              110.539727             -99.889460\n",
      "2023              168.439881             -99.831560\n",
      "2024              159.444282             -99.840556\n"
     ]
    },
    {
     "name": "stderr",
     "output_type": "stream",
     "text": [
      "\n"
     ]
    }
   ],
   "source": [
    "import numpy as np\n",
    "import pandas as pd\n",
    "from datetime import datetime\n",
    "import yfinance as yf\n",
    "from pypfopt import expected_returns, risk_models, EfficientFrontier\n",
    "from pypfopt.discrete_allocation import DiscreteAllocation\n",
    "\n",
    "# Define the ticker symbols of the companies you're interested in\n",
    "ticker_symbols = ['AAPL', 'MSFT', 'GOOGL']  # Add more if needed\n",
    "\n",
    "# Download historical stock price data\n",
    "start_date = '2010-01-01'\n",
    "end_date = datetime.today().strftime('%Y-%m-%d')\n",
    "\n",
    "stock_data = yf.download(ticker_symbols, start=start_date, end=end_date)['Adj Close']\n",
    "\n",
    "# Calculate annual returns for each company\n",
    "annual_returns = expected_returns.mean_historical_return(stock_data)\n",
    "\n",
    "# Calculate the covariance matrix\n",
    "cov_matrix = risk_models.sample_cov(stock_data)\n",
    "\n",
    "# Perform mean-variance optimization to get the efficient frontier\n",
    "ef = EfficientFrontier(annual_returns, cov_matrix)\n",
    "weights = ef.max_sharpe()\n",
    "\n",
    "# Get the expected returns and volatility of the optimized portfolio\n",
    "expected_return = ef.portfolio_performance()[0]\n",
    "volatility = ef.portfolio_performance()[1]\n",
    "\n",
    "# Assume initial investment of 100000 rupees\n",
    "initial_investment = 100000\n",
    "\n",
    "# Create empty lists to store results for each year\n",
    "annual_returns_df = pd.DataFrame(columns=ticker_symbols)\n",
    "portfolio_balances = []\n",
    "return_percentages = []\n",
    "\n",
    "# Calculate for each year\n",
    "for year, annual_prices in stock_data.resample('Y').ffill().iterrows():\n",
    "    # Calculate annual returns for each stock\n",
    "    annual_returns = annual_prices.pct_change().mean() * 100\n",
    "    annual_returns_df.loc[year.year] = annual_returns\n",
    "    \n",
    "    # Calculate portfolio balance for the year\n",
    "    weights_array = np.array([weights[ticker] for ticker in ticker_symbols])\n",
    "    portfolio_balance = np.dot(annual_prices.values, weights_array)\n",
    "    portfolio_balances.append(portfolio_balance)  # Do not add initial investment here\n",
    "    \n",
    "    # Calculate return percentage for the year\n",
    "    previous_balance = portfolio_balances[-2] if len(portfolio_balances) >= 2 else initial_investment\n",
    "    return_percentage = ((portfolio_balance - initial_investment) / initial_investment) * 100\n",
    "    return_percentages.append(return_percentage)\n",
    "\n",
    "# Create DataFrame for annual returns\n",
    "annual_returns_df.index.name = 'Year'\n",
    "\n",
    "# Create DataFrame for balance and return percentages\n",
    "balance_return_df = pd.DataFrame({\n",
    "    'Portfolio Balance (Rs)': portfolio_balances,\n",
    "    'Return Percentage (%)': return_percentages\n",
    "}, index=stock_data.resample('Y').ffill().index.year)\n",
    "\n",
    "print(\"\\nAnnual Returns for Individual Stocks:\")\n",
    "print(annual_returns_df)\n",
    "\n",
    "print(\"\\nBalance and Return for Every Year:\")\n",
    "print(balance_return_df)\n"
   ]
  },
  {
   "cell_type": "code",
   "execution_count": null,
   "id": "341bac6b",
   "metadata": {},
   "outputs": [],
   "source": []
  }
 ],
 "metadata": {
  "kernelspec": {
   "display_name": "Python 3 (ipykernel)",
   "language": "python",
   "name": "python3"
  },
  "language_info": {
   "codemirror_mode": {
    "name": "ipython",
    "version": 3
   },
   "file_extension": ".py",
   "mimetype": "text/x-python",
   "name": "python",
   "nbconvert_exporter": "python",
   "pygments_lexer": "ipython3",
   "version": "3.10.13"
  }
 },
 "nbformat": 4,
 "nbformat_minor": 5
}
